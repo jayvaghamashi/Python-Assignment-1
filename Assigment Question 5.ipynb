{
 "cells": [
  {
   "cell_type": "code",
   "execution_count": 12,
   "id": "9c51bd00-68f9-429d-b6c9-bc9b13ae2a61",
   "metadata": {},
   "outputs": [
    {
     "name": "stdin",
     "output_type": "stream",
     "text": [
      "Enter your first blood group    a     +\n"
     ]
    },
    {
     "name": "stdout",
     "output_type": "stream",
     "text": [
      "\n",
      "Your Blood Group is valid\n"
     ]
    },
    {
     "name": "stdin",
     "output_type": "stream",
     "text": [
      "Enter Your Second Blood Group a+\n"
     ]
    },
    {
     "name": "stdout",
     "output_type": "stream",
     "text": [
      "\n",
      "Your Blood Group is valid\n",
      "Your Blood Group is Match\n"
     ]
    }
   ],
   "source": [
    "#5 write a program for two blood group match\n",
    "\n",
    "fb = input(\"Enter your first blood group\").lower().replace(\" \",\"\")\n",
    "\n",
    "if fb in ['a+', 'a-', 'b+', 'b-', 'ab+', 'ab-', 'o+', 'o-']:\n",
    "        print(\"\\nYour Blood Group is valid\")\n",
    "            \n",
    "else:\n",
    "        print(\"Please Enter The Valid Blood Group\")\n",
    "    \n",
    "sb = input(\"Enter Your Second Blood Group\").lower().replace(\" \",\"\")\n",
    "if fb in ['a+', 'a-', 'b+', 'b-', 'ab+', 'ab-', 'o+', 'o-']:\n",
    "      print(\"\\nYour Blood Group is valid\")\n",
    "\n",
    "else:\n",
    "      print(\"Please Enter The Valid Blood Group\")\n",
    "    \n",
    "\n",
    "if fb == sb:\n",
    "    print(\"Your Blood Group is Match\")\n",
    "else :\n",
    "    print(\"Your BLood Group is NOt match\")"
   ]
  },
  {
   "cell_type": "code",
   "execution_count": null,
   "id": "ad3d907a-bd32-4ac6-b1fe-008fc3e53c9d",
   "metadata": {},
   "outputs": [],
   "source": []
  }
 ],
 "metadata": {
  "kernelspec": {
   "display_name": "Python 3 (ipykernel)",
   "language": "python",
   "name": "python3"
  },
  "language_info": {
   "codemirror_mode": {
    "name": "ipython",
    "version": 3
   },
   "file_extension": ".py",
   "mimetype": "text/x-python",
   "name": "python",
   "nbconvert_exporter": "python",
   "pygments_lexer": "ipython3",
   "version": "3.10.5"
  }
 },
 "nbformat": 4,
 "nbformat_minor": 5
}
