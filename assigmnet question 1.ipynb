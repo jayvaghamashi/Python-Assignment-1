{
 "cells": [
  {
   "cell_type": "code",
   "execution_count": 1,
   "id": "35bea85f-c449-429f-9a44-c6f83c640642",
   "metadata": {},
   "outputs": [
    {
     "name": "stdout",
     "output_type": "stream",
     "text": [
      "0.692\n"
     ]
    }
   ],
   "source": [
    "# 1.A card is drwan at random from a dech well shuffled cards. find the probability of it beung neither a king not a spade..\n",
    "\n",
    "card = 52\n",
    "king = 4\n",
    "spade = 13\n",
    "ks = 1\n",
    "\n",
    "nks = card-(king+spade-ks)\n",
    "\n",
    "probability = nks/card\n",
    "print(f\"{probability:.3f}\")\n",
    "\n"
   ]
  },
  {
   "cell_type": "code",
   "execution_count": null,
   "id": "6451b9df-3256-4f89-8abc-fbcb30ffcd5d",
   "metadata": {},
   "outputs": [],
   "source": []
  }
 ],
 "metadata": {
  "kernelspec": {
   "display_name": "Python 3 (ipykernel)",
   "language": "python",
   "name": "python3"
  },
  "language_info": {
   "codemirror_mode": {
    "name": "ipython",
    "version": 3
   },
   "file_extension": ".py",
   "mimetype": "text/x-python",
   "name": "python",
   "nbconvert_exporter": "python",
   "pygments_lexer": "ipython3",
   "version": "3.10.5"
  }
 },
 "nbformat": 4,
 "nbformat_minor": 5
}
