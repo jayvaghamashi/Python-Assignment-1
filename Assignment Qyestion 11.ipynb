{
 "cells": [
  {
   "cell_type": "code",
   "execution_count": 9,
   "id": "dd39b387-8a23-454e-81d3-ba43d643cf14",
   "metadata": {},
   "outputs": [
    {
     "name": "stdin",
     "output_type": "stream",
     "text": [
      "Enter Your Element 35\n"
     ]
    },
    {
     "name": "stdout",
     "output_type": "stream",
     "text": [
      "number is positive\n",
      "35  not prime\n"
     ]
    }
   ],
   "source": [
    "number = int(input(\"Enter Your Element\"))\n",
    "prime = True\n",
    "if number > 1:\n",
    "    print(\"number is positive\")\n",
    "\n",
    "    for i in range(2,number):\n",
    "        if number % i == 0:\n",
    "            prime = False\n",
    "            break\n",
    "    if prime:\n",
    "        print(number,\"prime\")\n",
    "    else:\n",
    "        print(number,\" not prime\")\n",
    "    \n",
    "elif number==0:\n",
    "    print(\"number is zero\")\n",
    "else:\n",
    "    print(\"Number Is Nagative\")"
   ]
  },
  {
   "cell_type": "code",
   "execution_count": 8,
   "id": "6d52d603-43fa-47d7-a8c1-a39947a17756",
   "metadata": {},
   "outputs": [
    {
     "name": "stdout",
     "output_type": "stream",
     "text": [
      "\n"
     ]
    }
   ],
   "source": [
    "\n"
   ]
  },
  {
   "cell_type": "code",
   "execution_count": null,
   "id": "2e8c28a7-2868-4ad7-b1b8-9611bec81aa2",
   "metadata": {},
   "outputs": [],
   "source": []
  }
 ],
 "metadata": {
  "kernelspec": {
   "display_name": "Python 3 (ipykernel)",
   "language": "python",
   "name": "python3"
  },
  "language_info": {
   "codemirror_mode": {
    "name": "ipython",
    "version": 3
   },
   "file_extension": ".py",
   "mimetype": "text/x-python",
   "name": "python",
   "nbconvert_exporter": "python",
   "pygments_lexer": "ipython3",
   "version": "3.10.5"
  }
 },
 "nbformat": 4,
 "nbformat_minor": 5
}
