{
 "cells": [
  {
   "cell_type": "code",
   "execution_count": null,
   "id": "a19020fc-0df8-4c77-a7c6-2f8bd6cb00c9",
   "metadata": {},
   "outputs": [
    {
     "name": "stdin",
     "output_type": "stream",
     "text": [
      "Input your roll number:  11212cd\n"
     ]
    },
    {
     "name": "stdout",
     "output_type": "stream",
     "text": [
      "No one in the Computer Science department\n"
     ]
    },
    {
     "name": "stdin",
     "output_type": "stream",
     "text": [
      "Input your roll number:  34343cs\n"
     ]
    },
    {
     "name": "stdout",
     "output_type": "stream",
     "text": [
      "Computer Science department roll number is: 34343cs\n"
     ]
    }
   ],
   "source": [
    "#6 Find the student from cs Departmnet where the rollnumber may be in capital or small case letters.\n",
    "for i in range(3):\n",
    "    rol= input(\"Input your roll number: \").lower()\n",
    "    \n",
    "    if 'cs' in rol:\n",
    "        print(\"Computer Science department roll number is:\", rol)\n",
    "    else:\n",
    "        print(\"No one in the Computer Science department\")"
   ]
  },
  {
   "cell_type": "code",
   "execution_count": null,
   "id": "32ad17b9-3c71-4ed7-a5ea-83eef963c9e0",
   "metadata": {},
   "outputs": [],
   "source": []
  }
 ],
 "metadata": {
  "kernelspec": {
   "display_name": "Python 3 (ipykernel)",
   "language": "python",
   "name": "python3"
  },
  "language_info": {
   "codemirror_mode": {
    "name": "ipython",
    "version": 3
   },
   "file_extension": ".py",
   "mimetype": "text/x-python",
   "name": "python",
   "nbconvert_exporter": "python",
   "pygments_lexer": "ipython3",
   "version": "3.10.5"
  }
 },
 "nbformat": 4,
 "nbformat_minor": 5
}
