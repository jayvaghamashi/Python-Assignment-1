{
 "cells": [
  {
   "cell_type": "code",
   "execution_count": 1,
   "id": "e8bc46f9-8c7e-421e-ae94-1571e2967f88",
   "metadata": {},
   "outputs": [
    {
     "name": "stdin",
     "output_type": "stream",
     "text": [
      "enter your number -1\n",
      "enter your number -2\n",
      "enter your number 3\n",
      "enter your number 4\n"
     ]
    },
    {
     "name": "stdout",
     "output_type": "stream",
     "text": [
      "7\n"
     ]
    }
   ],
   "source": [
    "# 2.find the sum of first n natural numbers.\n",
    "b=0\n",
    "for i in range(4):\n",
    "    a = int(input(\"enter your number\"))\n",
    "    if(a>0):\n",
    "      b+=a\n",
    "print(b)"
   ]
  },
  {
   "cell_type": "code",
   "execution_count": 2,
   "id": "86444c5f-3b75-4ff8-9427-d7f224639041",
   "metadata": {},
   "outputs": [
    {
     "name": "stdin",
     "output_type": "stream",
     "text": [
      "Enter the number 10\n"
     ]
    },
    {
     "name": "stdout",
     "output_type": "stream",
     "text": [
      "55\n"
     ]
    }
   ],
   "source": [
    "b = int(input(\"Enter the number\"))\n",
    "s = 0\n",
    "for i in range(b+1):\n",
    "     s+=i\n",
    "print(s)\n",
    "\n",
    " "
   ]
  },
  {
   "cell_type": "code",
   "execution_count": null,
   "id": "38539397-7b17-44d9-be5f-8e83a8e83c94",
   "metadata": {},
   "outputs": [],
   "source": []
  }
 ],
 "metadata": {
  "kernelspec": {
   "display_name": "Python 3 (ipykernel)",
   "language": "python",
   "name": "python3"
  },
  "language_info": {
   "codemirror_mode": {
    "name": "ipython",
    "version": 3
   },
   "file_extension": ".py",
   "mimetype": "text/x-python",
   "name": "python",
   "nbconvert_exporter": "python",
   "pygments_lexer": "ipython3",
   "version": "3.10.5"
  }
 },
 "nbformat": 4,
 "nbformat_minor": 5
}
