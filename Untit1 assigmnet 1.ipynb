{
 "cells": [
  {
   "cell_type": "code",
   "execution_count": 16,
   "id": "42044dc7-7052-44f1-946d-cb7c66910cf1",
   "metadata": {},
   "outputs": [
    {
     "name": "stdout",
     "output_type": "stream",
     "text": [
      "0.692\n"
     ]
    }
   ],
   "source": [
    "# 1.A card is drwan at random from a dech well shuffled cards. find the probability of it beung neither a king not a spade..\n",
    "\n",
    "card = 52\n",
    "king = 4\n",
    "spade = 13\n",
    "ks = 1\n",
    "\n",
    "nks = card-(king+spade-ks)\n",
    "\n",
    "pro = nks/card\n",
    "print(f\"{pro:.3f}\")\n",
    "\n",
    "\n",
    "\n"
   ]
  },
  {
   "cell_type": "code",
   "execution_count": 21,
   "id": "afb00489-c851-4972-a900-496d6d9338ce",
   "metadata": {},
   "outputs": [
    {
     "name": "stdin",
     "output_type": "stream",
     "text": [
      "enter your number 1\n",
      "enter your number -1\n",
      "enter your number -2\n",
      "enter your number 3\n"
     ]
    },
    {
     "name": "stdout",
     "output_type": "stream",
     "text": [
      "4\n"
     ]
    }
   ],
   "source": [
    "# 2.find the sum of first n natural numbers.\n",
    "b=0\n",
    "for i in range(4):\n",
    "    a = int(input(\"enter your number\"))\n",
    "    if(a>0):\n",
    "      b+=a\n",
    "print(b)\n",
    "\n",
    "\n",
    "\n",
    "\n",
    "\n",
    "\n",
    "\n",
    "\n"
   ]
  },
  {
   "cell_type": "code",
   "execution_count": 34,
   "id": "580851dd-de8c-447b-a1dd-5fb97c399a43",
   "metadata": {},
   "outputs": [
    {
     "name": "stdin",
     "output_type": "stream",
     "text": [
      "Enter Your roll number mca101\n"
     ]
    },
    {
     "name": "stdout",
     "output_type": "stream",
     "text": [
      "Your department id :-\n",
      "mca\n",
      "Your student id\n",
      "101\n",
      "you are Right\n"
     ]
    }
   ],
   "source": [
    "# 3.Extracting fields of a roll number using string indexing and slicing.\n",
    "\n",
    "\n",
    "roll = input(\"Enter Your roll number\")\n",
    "\n",
    "if(len(roll) <= 6):\n",
    "    print(\"Your department id :-\")\n",
    "    print(roll[0:3])\n",
    "\n",
    "    print(\"Your student id\")\n",
    "    print(roll[3:6])\n",
    "\n",
    "    print(\"you are Right\")\n",
    "else:\n",
    "    print(\"you are Wrong\")"
   ]
  },
  {
   "cell_type": "code",
   "execution_count": 1,
   "id": "60897fa1-6d41-463c-9f60-ccaa22b74ca1",
   "metadata": {},
   "outputs": [
    {
     "name": "stdin",
     "output_type": "stream",
     "text": [
      "Enter Your string mca,101,100\n"
     ]
    },
    {
     "name": "stdout",
     "output_type": "stream",
     "text": [
      "['mca', '101', '100']\n"
     ]
    }
   ],
   "source": [
    "val = input(\"Enter Your string\")\n",
    "dic = (dptname ,roll , dptid) = val.split(',')\n",
    "print(dic)\n"
   ]
  },
  {
   "cell_type": "code",
   "execution_count": 1,
   "id": "75925606-e4e7-486d-ae23-c07afe5b0e75",
   "metadata": {},
   "outputs": [
    {
     "name": "stdout",
     "output_type": "stream",
     "text": [
      "23\n",
      "vidhyapith gujrat  hello \n"
     ]
    }
   ],
   "source": [
    " # .4 Word SHuffle using string manipulation.\n",
    "\n",
    "str = \"hello gujrat vidhyapith\"\n",
    "st=len(str)\n",
    "print(st)\n",
    "a=str[6:13]\n",
    "b=str[13:23]\n",
    "c=str[0:6]\n",
    "print(b,a,c)"
   ]
  },
  {
   "cell_type": "code",
   "execution_count": 7,
   "id": "37f010ea-311d-4f4a-a995-6fb2460f690b",
   "metadata": {},
   "outputs": [
    {
     "name": "stdin",
     "output_type": "stream",
     "text": [
      "Enter Your World hello\n"
     ]
    },
    {
     "name": "stdout",
     "output_type": "stream",
     "text": [
      "Original word: hello\n",
      "Shuffled word: lolhe\n"
     ]
    }
   ],
   "source": [
    "import random\n",
    "\n",
    "word = input(\"Enter Your World\")\n",
    "word_list = list(word) \n",
    "random.shuffle(word_list)  \n",
    "shuffled_word = ''.join(word_list)  \n",
    "\n",
    "print(\"Original word:\", word)\n",
    "print(\"Shuffled word:\", shuffled_word)"
   ]
  },
  {
   "cell_type": "code",
   "execution_count": 12,
   "id": "88da9777-c558-41da-9aa0-fbdfd55569db",
   "metadata": {},
   "outputs": [
    {
     "name": "stdin",
     "output_type": "stream",
     "text": [
      "Enter your first blood group   a  +\n",
      "\n",
      "Enter Your Second Blood Group a+\n"
     ]
    },
    {
     "name": "stdout",
     "output_type": "stream",
     "text": [
      "\n",
      "\tYour Blood Group is Match\n"
     ]
    }
   ],
   "source": [
    "#5 write a program for two blood group match\n",
    "\n",
    "fb = input(\"Enter your first blood group\").lower()\n",
    "# if fb in ['a+', 'a-', 'b+', 'b-', 'ab+', 'ab-', 'o+', 'o-']:\n",
    "#     print(\"\\nYour Blood Group is valid\")\n",
    "\n",
    "# else:\n",
    "#     print(\"Please Enter The Valid Blood Group\")\n",
    "    \n",
    "sb = input(\"\\nEnter Your Second Blood Group\").lower()\n",
    "# if fb in ['a+', 'a-', 'b+', 'b-', 'ab+', 'ab-', 'o+', 'o-']:\n",
    "#     print(\"\\nYour Blood Group is valid\")\n",
    "# else:\n",
    "#     print(\"\\nPlease Enter The Valid Blood Group\")\n",
    "\n",
    "if fb == sb:\n",
    "    print(\"\\n\\tYour Blood Group is Match\")\n",
    "else :\n",
    "    print(\"\\n\\tYour BLood Group is NOt match\")\n",
    "    "
   ]
  },
  {
   "cell_type": "code",
   "execution_count": 28,
   "id": "422d873a-b2d2-489c-acb2-378ad0f7096a",
   "metadata": {},
   "outputs": [
    {
     "name": "stdin",
     "output_type": "stream",
     "text": [
      "Input your roll number:  101\n"
     ]
    },
    {
     "name": "stdout",
     "output_type": "stream",
     "text": [
      "No one in the Computer Science department\n"
     ]
    },
    {
     "name": "stdin",
     "output_type": "stream",
     "text": [
      "Input your roll number:  101cs\n"
     ]
    },
    {
     "name": "stdout",
     "output_type": "stream",
     "text": [
      "Computer Science department roll number is: 101cs\n"
     ]
    },
    {
     "ename": "KeyboardInterrupt",
     "evalue": "Interrupted by user",
     "output_type": "error",
     "traceback": [
      "\u001b[1;31m---------------------------------------------------------------------------\u001b[0m",
      "\u001b[1;31mKeyboardInterrupt\u001b[0m                         Traceback (most recent call last)",
      "Cell \u001b[1;32mIn[28], line 3\u001b[0m\n\u001b[0;32m      1\u001b[0m \u001b[38;5;66;03m#6 Find the student from cs Departmnet where the rollnumber may be in capital or small case letters.\u001b[39;00m\n\u001b[0;32m      2\u001b[0m \u001b[38;5;28;01mfor\u001b[39;00m i \u001b[38;5;129;01min\u001b[39;00m \u001b[38;5;28mrange\u001b[39m(\u001b[38;5;241m3\u001b[39m):\n\u001b[1;32m----> 3\u001b[0m     rol\u001b[38;5;241m=\u001b[39m \u001b[38;5;28;43minput\u001b[39;49m\u001b[43m(\u001b[49m\u001b[38;5;124;43m\"\u001b[39;49m\u001b[38;5;124;43mInput your roll number: \u001b[39;49m\u001b[38;5;124;43m\"\u001b[39;49m\u001b[43m)\u001b[49m\u001b[38;5;241m.\u001b[39mlower()\n\u001b[0;32m      5\u001b[0m     \u001b[38;5;28;01mif\u001b[39;00m \u001b[38;5;124m'\u001b[39m\u001b[38;5;124mcs\u001b[39m\u001b[38;5;124m'\u001b[39m \u001b[38;5;129;01min\u001b[39;00m rol:\n\u001b[0;32m      6\u001b[0m         \u001b[38;5;28mprint\u001b[39m(\u001b[38;5;124m\"\u001b[39m\u001b[38;5;124mComputer Science department roll number is:\u001b[39m\u001b[38;5;124m\"\u001b[39m, rol)\n",
      "File \u001b[1;32m~\\AppData\\Local\\Programs\\Python\\Python310\\lib\\site-packages\\ipykernel\\kernelbase.py:1282\u001b[0m, in \u001b[0;36mKernel.raw_input\u001b[1;34m(self, prompt)\u001b[0m\n\u001b[0;32m   1280\u001b[0m     msg \u001b[38;5;241m=\u001b[39m \u001b[38;5;124m\"\u001b[39m\u001b[38;5;124mraw_input was called, but this frontend does not support input requests.\u001b[39m\u001b[38;5;124m\"\u001b[39m\n\u001b[0;32m   1281\u001b[0m     \u001b[38;5;28;01mraise\u001b[39;00m StdinNotImplementedError(msg)\n\u001b[1;32m-> 1282\u001b[0m \u001b[38;5;28;01mreturn\u001b[39;00m \u001b[38;5;28;43mself\u001b[39;49m\u001b[38;5;241;43m.\u001b[39;49m\u001b[43m_input_request\u001b[49m\u001b[43m(\u001b[49m\n\u001b[0;32m   1283\u001b[0m \u001b[43m    \u001b[49m\u001b[38;5;28;43mstr\u001b[39;49m\u001b[43m(\u001b[49m\u001b[43mprompt\u001b[49m\u001b[43m)\u001b[49m\u001b[43m,\u001b[49m\n\u001b[0;32m   1284\u001b[0m \u001b[43m    \u001b[49m\u001b[38;5;28;43mself\u001b[39;49m\u001b[38;5;241;43m.\u001b[39;49m\u001b[43m_parent_ident\u001b[49m\u001b[43m[\u001b[49m\u001b[38;5;124;43m\"\u001b[39;49m\u001b[38;5;124;43mshell\u001b[39;49m\u001b[38;5;124;43m\"\u001b[39;49m\u001b[43m]\u001b[49m\u001b[43m,\u001b[49m\n\u001b[0;32m   1285\u001b[0m \u001b[43m    \u001b[49m\u001b[38;5;28;43mself\u001b[39;49m\u001b[38;5;241;43m.\u001b[39;49m\u001b[43mget_parent\u001b[49m\u001b[43m(\u001b[49m\u001b[38;5;124;43m\"\u001b[39;49m\u001b[38;5;124;43mshell\u001b[39;49m\u001b[38;5;124;43m\"\u001b[39;49m\u001b[43m)\u001b[49m\u001b[43m,\u001b[49m\n\u001b[0;32m   1286\u001b[0m \u001b[43m    \u001b[49m\u001b[43mpassword\u001b[49m\u001b[38;5;241;43m=\u001b[39;49m\u001b[38;5;28;43;01mFalse\u001b[39;49;00m\u001b[43m,\u001b[49m\n\u001b[0;32m   1287\u001b[0m \u001b[43m\u001b[49m\u001b[43m)\u001b[49m\n",
      "File \u001b[1;32m~\\AppData\\Local\\Programs\\Python\\Python310\\lib\\site-packages\\ipykernel\\kernelbase.py:1325\u001b[0m, in \u001b[0;36mKernel._input_request\u001b[1;34m(self, prompt, ident, parent, password)\u001b[0m\n\u001b[0;32m   1322\u001b[0m \u001b[38;5;28;01mexcept\u001b[39;00m \u001b[38;5;167;01mKeyboardInterrupt\u001b[39;00m:\n\u001b[0;32m   1323\u001b[0m     \u001b[38;5;66;03m# re-raise KeyboardInterrupt, to truncate traceback\u001b[39;00m\n\u001b[0;32m   1324\u001b[0m     msg \u001b[38;5;241m=\u001b[39m \u001b[38;5;124m\"\u001b[39m\u001b[38;5;124mInterrupted by user\u001b[39m\u001b[38;5;124m\"\u001b[39m\n\u001b[1;32m-> 1325\u001b[0m     \u001b[38;5;28;01mraise\u001b[39;00m \u001b[38;5;167;01mKeyboardInterrupt\u001b[39;00m(msg) \u001b[38;5;28;01mfrom\u001b[39;00m \u001b[38;5;28;01mNone\u001b[39;00m\n\u001b[0;32m   1326\u001b[0m \u001b[38;5;28;01mexcept\u001b[39;00m \u001b[38;5;167;01mException\u001b[39;00m:\n\u001b[0;32m   1327\u001b[0m     \u001b[38;5;28mself\u001b[39m\u001b[38;5;241m.\u001b[39mlog\u001b[38;5;241m.\u001b[39mwarning(\u001b[38;5;124m\"\u001b[39m\u001b[38;5;124mInvalid Message:\u001b[39m\u001b[38;5;124m\"\u001b[39m, exc_info\u001b[38;5;241m=\u001b[39m\u001b[38;5;28;01mTrue\u001b[39;00m)\n",
      "\u001b[1;31mKeyboardInterrupt\u001b[0m: Interrupted by user"
     ]
    }
   ],
   "source": [
    "#6 Find the student from cs Departmnet where the rollnumber may be in capital or small case letters.\n",
    "for i in range(3):\n",
    "    rol= input(\"Input your roll number: \").lower()\n",
    "    \n",
    "    if 'cs' in rol:\n",
    "        print(\"Computer Science department roll number is:\", rol)\n",
    "    else:\n",
    "        print(\"No one in the Computer Science department\")\n",
    "\n",
    "    \n"
   ]
  },
  {
   "cell_type": "code",
   "execution_count": 13,
   "id": "5357202f-b582-4848-bdae-804a48cca858",
   "metadata": {},
   "outputs": [
    {
     "name": "stdin",
     "output_type": "stream",
     "text": [
      "Enter Your Card                                                       a\n"
     ]
    },
    {
     "name": "stdout",
     "output_type": "stream",
     "text": [
      "Your Card Is Luckey\n"
     ]
    }
   ],
   "source": [
    "#7 find out luckey card \n",
    "\n",
    "d = ['a','k','q','j']\n",
    "i = input(\"Enter Your Card\").lower()\n",
    "if i in d:\n",
    "    print(\"Your Card Is Luckey\")\n",
    "else:\n",
    "    print(\"Your Card IS Not luckey\")"
   ]
  },
  {
   "cell_type": "code",
   "execution_count": 16,
   "id": "20e494fa-8937-4226-877d-531fa743c7fb",
   "metadata": {},
   "outputs": [
    {
     "name": "stdin",
     "output_type": "stream",
     "text": [
      "Enter The First Subject Mark 70\n",
      "Enter The Second Subject Mark 70\n",
      "Enter The Third Subject Mark 70\n",
      "Enter The Fourth Subject Mark 70\n"
     ]
    },
    {
     "name": "stdout",
     "output_type": "stream",
     "text": [
      "passed with second Class 70.0\n"
     ]
    }
   ],
   "source": [
    "# 8 Find Out pass-percentage of a class.\n",
    "\n",
    "sub1=int(input(\"Enter The First Subject Mark\"))\n",
    "sub2=int(input(\"Enter The Second Subject Mark\"))\n",
    "sub3=int(input(\"Enter The Third Subject Mark\"))\n",
    "sub4=int(input(\"Enter The Fourth Subject Mark\"))\n",
    "total = 400;\n",
    "\n",
    "if sub1 >= 40 and sub2 >= 40 and sub3 >=40  and sub4 >=40:\n",
    "    subtotal = sub1+sub2+sub3+sub4\n",
    "    per= subtotal*100/total\n",
    "\n",
    "    if per > 90:\n",
    "        print(\"Passed With Distiction\",per)\n",
    "    elif per > 70:\n",
    "        print(\"Passed with First Class\",per)\n",
    "    elif per >  60:\n",
    "        print(\"passed with second Class\",per )\n",
    "    else:\n",
    "        print(\"Passed with third Class\",per)\n",
    "else:\n",
    "    subtotal = sub1+sub2+sub3+sub4\n",
    "    per= subtotal*100/total\n",
    "    print(\"You are fail because your mark is lessthen 40   :-\",per)\n",
    "    \n",
    "        \n",
    "    "
   ]
  },
  {
   "cell_type": "code",
   "execution_count": null,
   "id": "60675a07-bbc1-4386-9b5b-3f18de5d3527",
   "metadata": {},
   "outputs": [],
   "source": []
  },
  {
   "cell_type": "code",
   "execution_count": null,
   "id": "88cb188f-6e55-46d8-a881-e8f8c6d1d7b7",
   "metadata": {},
   "outputs": [],
   "source": []
  },
  {
   "cell_type": "code",
   "execution_count": null,
   "id": "4cbe50b2-0057-461a-9fd7-8b5211e25aa4",
   "metadata": {},
   "outputs": [],
   "source": []
  },
  {
   "cell_type": "code",
   "execution_count": 17,
   "id": "8d5ee873-98ab-420f-9a65-7b3088d592a0",
   "metadata": {},
   "outputs": [
    {
     "name": "stdin",
     "output_type": "stream",
     "text": [
      "Enter the number of terms:  10\n"
     ]
    },
    {
     "name": "stdout",
     "output_type": "stream",
     "text": [
      "Fibonacci sequence:\n",
      "0 1 2 3 4 5 6 7 8 9 "
     ]
    }
   ],
   "source": [
    "#9 Print Fibonaki sequence\n",
    "n = int(input(\"Enter the number of terms: \"))\n",
    "\n",
    "\n",
    "a, b = 0, 1\n",
    "\n",
    "print(\"Fibonacci sequence:\")\n",
    "\n",
    "\n",
    "for i in range(n):\n",
    "    print(a, end=\" \")\n",
    "    a, b = b, a + b"
   ]
  },
  {
   "cell_type": "code",
   "execution_count": 1,
   "id": "c42c3030-76bf-4b33-9b12-bca2f29ad913",
   "metadata": {},
   "outputs": [
    {
     "name": "stdout",
     "output_type": "stream",
     "text": [
      "0 1 1 2 3 5 8 13 21 34 "
     ]
    }
   ],
   "source": [
    "i,j =0,1\n",
    "for _ in range(10):\n",
    "    print(i, end = \" \")\n",
    "    i, j =  j ,i + j"
   ]
  },
  {
   "cell_type": "code",
   "execution_count": 18,
   "id": "849432ca-3a80-414a-a601-cfc65d7ef82c",
   "metadata": {},
   "outputs": [
    {
     "name": "stdout",
     "output_type": "stream",
     "text": [
      "[7, 22, 11, 34, 17, 52, 26, 13, 40, 20, 10, 5, 16, 8, 4, 2, 1]\n"
     ]
    }
   ],
   "source": [
    "#10 Collaatz sequence\n",
    "\n",
    "n = 7\n",
    "s = [n]\n",
    "while n != 1:\n",
    "    if n % 2 == 0:\n",
    "        n = n // 2\n",
    "    else:\n",
    "        n = 3 * n + 1\n",
    "    s.append(n)\n",
    "\n",
    "print(s)"
   ]
  },
  {
   "cell_type": "code",
   "execution_count": 92,
   "id": "7c007a9b-eec9-4060-93e9-634263338857",
   "metadata": {},
   "outputs": [
    {
     "name": "stdin",
     "output_type": "stream",
     "text": [
      "Enter Your Element -1\n"
     ]
    },
    {
     "name": "stdout",
     "output_type": "stream",
     "text": [
      "number is positive\n",
      "-1 prime\n"
     ]
    }
   ],
   "source": [
    "#11 primality testing : Given a positive integer , check if the number is prime or not\n",
    "\n",
    "number = int(input(\"Enter Your Element\"))\n",
    "prime = True\n",
    "if number > 1:\n",
    "    print(\"number is positive\")\n",
    "\n",
    "    for i in range(2,number):\n",
    "        if number % i == 0:\n",
    "            prime = False\n",
    "            break\n",
    "    if prime:\n",
    "        print(number,\"prime\")\n",
    "    else:\n",
    "        print(number,\" not prime\")\n",
    "    \n",
    "elif number==0:\n",
    "    print(\"number is zero\")\n",
    "else:\n",
    "    print(\"Number Is Nagative\")\n"
   ]
  },
  {
   "cell_type": "code",
   "execution_count": null,
   "id": "d7cfe557-56b3-41fc-9d7c-1a415e136e56",
   "metadata": {},
   "outputs": [],
   "source": []
  },
  {
   "cell_type": "code",
   "execution_count": 84,
   "id": "ec1eb98e-75f4-4ad5-b268-6dec27508ee4",
   "metadata": {},
   "outputs": [
    {
     "name": "stdin",
     "output_type": "stream",
     "text": [
      "Enter the value: 7\n"
     ]
    },
    {
     "name": "stdout",
     "output_type": "stream",
     "text": [
      "7 prime\n"
     ]
    }
   ],
   "source": [
    "number = int(input(\"Enter the value:\"))\n",
    "prime = True\n",
    "if number <= 1 :\n",
    "    print(number,\"not prime\")\n",
    "else:\n",
    "    for i in range(2,number):\n",
    "        if number % i == 0:\n",
    "            prime = False\n",
    "            break\n",
    "    if prime:\n",
    "        print(number,\"prime\")\n",
    "    else:\n",
    "        print(number,\" not prime\")\n",
    "     "
   ]
  },
  {
   "cell_type": "code",
   "execution_count": 19,
   "id": "05e4b242-cb98-413d-ac28-d19164f8d3c7",
   "metadata": {},
   "outputs": [
    {
     "ename": "SyntaxError",
     "evalue": "unterminated string literal (detected at line 12) (2444109309.py, line 12)",
     "output_type": "error",
     "traceback": [
      "\u001b[1;36m  Cell \u001b[1;32mIn[19], line 12\u001b[1;36m\u001b[0m\n\u001b[1;33m    if month == '01'':\u001b[0m\n\u001b[1;37m                    ^\u001b[0m\n\u001b[1;31mSyntaxError\u001b[0m\u001b[1;31m:\u001b[0m unterminated string literal (detected at line 12)\n"
     ]
    }
   ],
   "source": [
    "#12 Find Birthdays in a month using dictionary birthday dd/mm/yy \n",
    "\n",
    "dic ={\n",
    "\n",
    "    'jay': '23/01/04',\n",
    "    'yagnik' : '08/04/04',\n",
    "    'yuvraj' : '27/10/04',\n",
    "    'tushar' :'01/06/03'\n",
    "}\n",
    "for i in dic.values():\n",
    "    month = i[3:5]\n",
    "    if month == '01'':\n",
    "        print(month)"
   ]
  },
  {
   "cell_type": "code",
   "execution_count": 93,
   "id": "53f45ece-c638-4c2d-9f97-162793afd83a",
   "metadata": {},
   "outputs": [
    {
     "name": "stdin",
     "output_type": "stream",
     "text": [
      "Enter Your Element:  -1\n"
     ]
    },
    {
     "name": "stdout",
     "output_type": "stream",
     "text": [
      "Number is negative\n"
     ]
    }
   ],
   "source": [
    "\n",
    "number = int(input(\"Enter Your Element: \"))\n",
    "prime = True\n",
    "\n",
    "if number > 1:\n",
    "    print(\"Number is positive\")\n",
    "\n",
    "    # Check for prime number\n",
    "    for i in range(2, int(number**0.5) + 1):\n",
    "        if number % i == 0:\n",
    "            prime = False\n",
    "            break\n",
    "\n",
    "    if prime:\n",
    "        print(number, \"is prime\")\n",
    "    else:\n",
    "        print(number, \"is not prime\")\n",
    "    \n",
    "elif number == 0:\n",
    "    print(\"Number is zero\")\n",
    "else:\n",
    "    print(\"Number is negative\")\n",
    "\n",
    "\n"
   ]
  },
  {
   "cell_type": "code",
   "execution_count": null,
   "id": "ff15e365-00c4-4bbb-b1a2-e9eb9b7f4fbf",
   "metadata": {},
   "outputs": [],
   "source": []
  }
 ],
 "metadata": {
  "kernelspec": {
   "display_name": "Python 3 (ipykernel)",
   "language": "python",
   "name": "python3"
  },
  "language_info": {
   "codemirror_mode": {
    "name": "ipython",
    "version": 3
   },
   "file_extension": ".py",
   "mimetype": "text/x-python",
   "name": "python",
   "nbconvert_exporter": "python",
   "pygments_lexer": "ipython3",
   "version": "3.10.5"
  }
 },
 "nbformat": 4,
 "nbformat_minor": 5
}
