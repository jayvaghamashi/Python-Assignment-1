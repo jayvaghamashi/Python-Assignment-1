{
 "cells": [
  {
   "cell_type": "code",
   "execution_count": 8,
   "id": "842cdf30-bf4f-42da-9be9-5a675b2054c7",
   "metadata": {},
   "outputs": [
    {
     "name": "stdout",
     "output_type": "stream",
     "text": [
      "\n",
      " {'jay': '23/01/04', 'yagnik': '08/01/04', 'yuvraj': '27/10/04', 'tushar': '01/06/03'}\n"
     ]
    },
    {
     "name": "stdin",
     "output_type": "stream",
     "text": [
      "Enter The Month  01\n"
     ]
    },
    {
     "name": "stdout",
     "output_type": "stream",
     "text": [
      "jay,23/01/04\n",
      "yagnik,08/01/04\n"
     ]
    }
   ],
   "source": [
    "#12 Find Birthdays in a month using dictionary birthday dd/mm/yy \n",
    "\n",
    "dic ={\n",
    "\n",
    "    'jay': '23/01/04',\n",
    "    'yagnik' : '08/01/04',\n",
    "    'yuvraj' : '27/10/04',\n",
    "    'tushar' :'01/06/03'\n",
    "}\n",
    "print(\"\\n\",dic)\n",
    "d = input(\"Enter The Month \")\n",
    "for k,i in dic.items():\n",
    "    month = i[3:5]\n",
    "    if month == d:\n",
    "    #if month == '01':\n",
    "       \n",
    "  \n",
    "        print(f\"{k},{i}\")\n",
    "\n",
    "\n"
   ]
  },
  {
   "cell_type": "code",
   "execution_count": null,
   "id": "fb30b9ae-f0b5-44b9-81e7-7fd4c13d4a31",
   "metadata": {},
   "outputs": [],
   "source": []
  }
 ],
 "metadata": {
  "kernelspec": {
   "display_name": "Python 3 (ipykernel)",
   "language": "python",
   "name": "python3"
  },
  "language_info": {
   "codemirror_mode": {
    "name": "ipython",
    "version": 3
   },
   "file_extension": ".py",
   "mimetype": "text/x-python",
   "name": "python",
   "nbconvert_exporter": "python",
   "pygments_lexer": "ipython3",
   "version": "3.10.5"
  }
 },
 "nbformat": 4,
 "nbformat_minor": 5
}
