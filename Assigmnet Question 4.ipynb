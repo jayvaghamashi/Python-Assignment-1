{
 "cells": [
  {
   "cell_type": "code",
   "execution_count": 1,
   "id": "3552e7ab-7848-4fd4-93f9-cd160cc95d62",
   "metadata": {},
   "outputs": [
    {
     "name": "stdout",
     "output_type": "stream",
     "text": [
      "23\n",
      "vidhyapith gujrat  hello \n"
     ]
    }
   ],
   "source": [
    " # .4 Word SHuffle using string manipulation.\n",
    "\n",
    "str = \"hello gujrat vidhyapith\"\n",
    "st=len(str)\n",
    "print(st)\n",
    "a=str[6:13]\n",
    "b=str[13:23]\n",
    "c=str[0:6]\n",
    "print(b,a,c)"
   ]
  },
  {
   "cell_type": "code",
   "execution_count": 9,
   "id": "328871ec-f7ae-4389-bc8e-16c0b6efbc26",
   "metadata": {},
   "outputs": [
    {
     "name": "stdin",
     "output_type": "stream",
     "text": [
      "Enter the String  ameay chemaru n j\n"
     ]
    },
    {
     "name": "stdout",
     "output_type": "stream",
     "text": [
      "\n",
      "Shuffleing Word\n",
      "  charu n j ameayem\n"
     ]
    }
   ],
   "source": [
    "#other wise \n",
    "\n",
    "b = input(\"Enter the String\")\n",
    "\n",
    "\n",
    "a =b[:6]\n",
    "c =b[6:9]\n",
    "d =b[9:11]\n",
    "e = b[11:14]\n",
    "j = b[14:18]\n",
    "shuffle = c+e+j+a+d\n",
    "print(\"\\nShuffleing Word\\n\",shuffle)\n",
    "\n",
    "\n"
   ]
  },
  {
   "cell_type": "code",
   "execution_count": null,
   "id": "c325e191-a8ae-437e-be9b-de2f1fb6ec58",
   "metadata": {},
   "outputs": [],
   "source": []
  }
 ],
 "metadata": {
  "kernelspec": {
   "display_name": "Python 3 (ipykernel)",
   "language": "python",
   "name": "python3"
  },
  "language_info": {
   "codemirror_mode": {
    "name": "ipython",
    "version": 3
   },
   "file_extension": ".py",
   "mimetype": "text/x-python",
   "name": "python",
   "nbconvert_exporter": "python",
   "pygments_lexer": "ipython3",
   "version": "3.10.5"
  }
 },
 "nbformat": 4,
 "nbformat_minor": 5
}
