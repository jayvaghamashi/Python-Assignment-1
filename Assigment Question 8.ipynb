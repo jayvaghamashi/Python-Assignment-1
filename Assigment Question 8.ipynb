{
 "cells": [
  {
   "cell_type": "code",
   "execution_count": 4,
   "id": "58890582-eb22-403a-8724-0a38e2ae6b24",
   "metadata": {},
   "outputs": [
    {
     "name": "stdin",
     "output_type": "stream",
     "text": [
      "Enter The First Subject Mark 35\n",
      "Enter The Second Subject Mark 56\n",
      "Enter The Third Subject Mark 56\n",
      "Enter The Fourth Subject Mark 56\n"
     ]
    },
    {
     "name": "stdout",
     "output_type": "stream",
     "text": [
      "You are fail because your mark is lessthen 40   :- 50.75\n"
     ]
    }
   ],
   "source": [
    "# 8 Find Out pass-percentage of a class.\n",
    "\n",
    "sub1=int(input(\"Enter The First Subject Mark\"))\n",
    "sub2=int(input(\"Enter The Second Subject Mark\"))\n",
    "sub3=int(input(\"Enter The Third Subject Mark\"))\n",
    "sub4=int(input(\"Enter The Fourth Subject Mark\"))\n",
    "total = 400;\n",
    "\n",
    "if sub1 >= 40 and sub2 >= 40 and sub3 >=40  and sub4 >=40:\n",
    "    subtotal = sub1+sub2+sub3+sub4\n",
    "    per= subtotal*100/total\n",
    "\n",
    "    if per > 90:\n",
    "        print(\"Passed With Distiction\",per)\n",
    "    elif per > 70:\n",
    "        print(\"Passed with First Class\",per)\n",
    "    elif per >  60:\n",
    "        print(\"passed with second Class\",per )\n",
    "    else:\n",
    "        print(\"Passed with third Class\",per)\n",
    "else:\n",
    "    subtotal = sub1+sub2+sub3+sub4\n",
    "    per= subtotal*100/total\n",
    "    print(\"You are fail because your mark is lessthen 40   :-\",per)"
   ]
  },
  {
   "cell_type": "code",
   "execution_count": 5,
   "id": "1a787d63-31d4-44de-952a-06fd991a40ab",
   "metadata": {},
   "outputs": [
    {
     "name": "stdin",
     "output_type": "stream",
     "text": [
      "Enter the number of students:  5\n",
      "Enter mark of student 1:  1\n",
      "Enter mark of student 2:  60\n",
      "Enter mark of student 3:  60\n",
      "Enter mark of student 4:  60\n",
      "Enter mark of student 5:  60\n"
     ]
    },
    {
     "name": "stdout",
     "output_type": "stream",
     "text": [
      "Pass percentage: 80.00%\n"
     ]
    }
   ],
   "source": [
    "passed_students = 0\n",
    "\n",
    "\n",
    "num_students = int(input(\"Enter the number of students: \"))\n",
    "\n",
    "marks = []\n",
    "\n",
    "\n",
    "for i in range(num_students):\n",
    "    mark = int(input(f\"Enter mark of student {i+1}: \"))\n",
    "    marks.append(mark)\n",
    "    if mark >= 40:\n",
    "        passed_students += 1\n",
    "\n",
    "\n",
    "#pass_percentage = (passed_students / num_students) * 100 \n",
    "pass_percentage=  (passed_students*100)/num_students\n",
    "\n",
    "print(f\"Pass percentage: {pass_percentage:.2f}%\")"
   ]
  },
  {
   "cell_type": "code",
   "execution_count": null,
   "id": "3a7811eb-9588-4318-ad60-a76e0a05fa38",
   "metadata": {},
   "outputs": [],
   "source": []
  }
 ],
 "metadata": {
  "kernelspec": {
   "display_name": "Python 3 (ipykernel)",
   "language": "python",
   "name": "python3"
  },
  "language_info": {
   "codemirror_mode": {
    "name": "ipython",
    "version": 3
   },
   "file_extension": ".py",
   "mimetype": "text/x-python",
   "name": "python",
   "nbconvert_exporter": "python",
   "pygments_lexer": "ipython3",
   "version": "3.10.5"
  }
 },
 "nbformat": 4,
 "nbformat_minor": 5
}
