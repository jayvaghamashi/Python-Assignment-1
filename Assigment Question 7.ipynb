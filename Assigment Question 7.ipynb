{
 "cells": [
  {
   "cell_type": "code",
   "execution_count": 2,
   "id": "15307fdf-79f7-405f-95a8-f29d66356e65",
   "metadata": {},
   "outputs": [
    {
     "name": "stdin",
     "output_type": "stream",
     "text": [
      "Enter Your Card a\n"
     ]
    },
    {
     "name": "stdout",
     "output_type": "stream",
     "text": [
      "Your Card Is Luckey\n"
     ]
    }
   ],
   "source": [
    "#7 find out luckey card \n",
    "\n",
    "d = ['a','k','q','j']\n",
    "\n",
    "\n",
    "i = input(\"Enter Your Card\").lower()\n",
    "if i in d:\n",
    "    print(\"Your Card Is Luckey\")\n",
    "else:\n",
    "    print(\"Your Card IS Not luckey\")"
   ]
  },
  {
   "cell_type": "code",
   "execution_count": 14,
   "id": "1ab81293-cc09-407f-8af7-64b246f3e61d",
   "metadata": {},
   "outputs": [
    {
     "name": "stdin",
     "output_type": "stream",
     "text": [
      "Enter Your Card a\n"
     ]
    },
    {
     "name": "stdout",
     "output_type": "stream",
     "text": [
      "Your Card IS Not luckey\n"
     ]
    }
   ],
   "source": [
    "\n"
   ]
  },
  {
   "cell_type": "code",
   "execution_count": null,
   "id": "224ef230-e250-4ff9-8bf1-38ef15fdcd99",
   "metadata": {},
   "outputs": [],
   "source": []
  }
 ],
 "metadata": {
  "kernelspec": {
   "display_name": "Python 3 (ipykernel)",
   "language": "python",
   "name": "python3"
  },
  "language_info": {
   "codemirror_mode": {
    "name": "ipython",
    "version": 3
   },
   "file_extension": ".py",
   "mimetype": "text/x-python",
   "name": "python",
   "nbconvert_exporter": "python",
   "pygments_lexer": "ipython3",
   "version": "3.10.5"
  }
 },
 "nbformat": 4,
 "nbformat_minor": 5
}
