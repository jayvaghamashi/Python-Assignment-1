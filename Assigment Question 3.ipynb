{
 "cells": [
  {
   "cell_type": "code",
   "execution_count": null,
   "id": "603171b9-9e4e-43f3-ab5f-2cafa73c4933",
   "metadata": {},
   "outputs": [],
   "source": [
    "# 3.Extracting fields of a roll number using string indexing and slicing.\n",
    "\n",
    "\n",
    "roll = input(\"Enter Your roll number\")\n",
    "\n",
    "if(len(roll) <= 6):\n",
    "    print(\"Your department id :-\")\n",
    "    print(roll[0:3])\n",
    "\n",
    "    print(\"Your student id\")\n",
    "    print(roll[3:6])\n",
    "\n",
    "    print(\"you are Right\")\n",
    "else:\n",
    "    print(\"you are Wrong\")\n",
    "\n",
    "\n",
    "#other wise\n",
    "\n",
    "val = input(\"Enter Your string\")\n",
    "dic = (dptname ,roll , dptid) = val.split(',')\n",
    "print(dic)\n",
    "    "
   ]
  }
 ],
 "metadata": {
  "kernelspec": {
   "display_name": "Python 3 (ipykernel)",
   "language": "python",
   "name": "python3"
  },
  "language_info": {
   "codemirror_mode": {
    "name": "ipython",
    "version": 3
   },
   "file_extension": ".py",
   "mimetype": "text/x-python",
   "name": "python",
   "nbconvert_exporter": "python",
   "pygments_lexer": "ipython3",
   "version": "3.10.5"
  }
 },
 "nbformat": 4,
 "nbformat_minor": 5
}
