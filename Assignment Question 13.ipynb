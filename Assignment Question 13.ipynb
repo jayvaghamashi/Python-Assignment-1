{
 "cells": [
  {
   "cell_type": "code",
   "execution_count": 9,
   "id": "1e09b374-cfd6-4fb9-beb8-537a92a120c7",
   "metadata": {},
   "outputs": [
    {
     "name": "stdin",
     "output_type": "stream",
     "text": [
      "Enter the price ->  1 0\n"
     ]
    },
    {
     "name": "stdout",
     "output_type": "stream",
     "text": [
      "Combination 1: 1 of 0, 2 of 0, 5 of 2\n",
      "Combination 2: 1 of 0, 2 of 5, 5 of 0\n",
      "Combination 3: 1 of 1, 2 of 2, 5 of 1\n",
      "Combination 4: 1 of 2, 2 of 4, 5 of 0\n",
      "Combination 5: 1 of 3, 2 of 1, 5 of 1\n",
      "Combination 6: 1 of 4, 2 of 3, 5 of 0\n",
      "Combination 7: 1 of 5, 2 of 0, 5 of 1\n",
      "Combination 8: 1 of 6, 2 of 2, 5 of 0\n",
      "Combination 9: 1 of 8, 2 of 1, 5 of 0\n",
      "Combination 10: 1 of 10, 2 of 0, 5 of 0\n"
     ]
    }
   ],
   "source": [
    "#13 Exact change : Given a price identify if you have exact change  summing up to that price ? (count all combination of coins to make a given values sum)\n",
    "\n",
    "\n",
    "price = int(input(\"Enter the price -> \").replace(\" \",\"\"))\n",
    "coin = [1, 2, 5]\n",
    "\n",
    "if price <= 0:\n",
    "    print(\"0 and Nagative is not a price, Enter the proper price\")\n",
    "else:\n",
    "    count = 0  \n",
    "    for t1 in range(0, (price // coin[0]) + 1):\n",
    "        for t2 in range(0, (price // coin[1]) + 1):\n",
    "            for t3 in range(0, (price // coin[2]) + 1):\n",
    "                if t1 * coin[0] + t2 * coin[1] + t3 * coin[2] == price:\n",
    "                    count += 1\n",
    "                    print(f\"Combination {count}: {coin[0]} of {t1}, {coin[1]} of {t2}, {coin[2]} of {t3}\")\n",
    "\n",
    "    \n",
    "   \n",
    "\n",
    "\n",
    "\n"
   ]
  },
  {
   "cell_type": "code",
   "execution_count": 26,
   "id": "0a840b7f-8e21-4ca4-835e-4dfe0b3562d0",
   "metadata": {},
   "outputs": [
    {
     "name": "stdout",
     "output_type": "stream",
     "text": [
      "1.0\n"
     ]
    }
   ],
   "source": [
    "it = 5/5\n",
    "print(it)\n",
    "\n",
    "\n"
   ]
  },
  {
   "cell_type": "code",
   "execution_count": 24,
   "id": "ad474b37-19ed-40d0-9fdb-06fe58c49229",
   "metadata": {},
   "outputs": [
    {
     "name": "stdout",
     "output_type": "stream",
     "text": [
      "1\n"
     ]
    }
   ],
   "source": [
    "it = 5//5\n",
    "print(it)"
   ]
  },
  {
   "cell_type": "code",
   "execution_count": null,
   "id": "089210ab-208f-4698-a3df-d911d2063c34",
   "metadata": {},
   "outputs": [],
   "source": [
    "3\n",
    "    "
   ]
  }
 ],
 "metadata": {
  "kernelspec": {
   "display_name": "Python 3 (ipykernel)",
   "language": "python",
   "name": "python3"
  },
  "language_info": {
   "codemirror_mode": {
    "name": "ipython",
    "version": 3
   },
   "file_extension": ".py",
   "mimetype": "text/x-python",
   "name": "python",
   "nbconvert_exporter": "python",
   "pygments_lexer": "ipython3",
   "version": "3.10.5"
  }
 },
 "nbformat": 4,
 "nbformat_minor": 5
}
